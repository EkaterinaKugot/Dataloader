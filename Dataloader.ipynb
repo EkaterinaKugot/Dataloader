{
  "nbformat": 4,
  "nbformat_minor": 0,
  "metadata": {
    "colab": {
      "provenance": []
    },
    "kernelspec": {
      "name": "python3",
      "display_name": "Python 3"
    },
    "language_info": {
      "name": "python"
    }
  },
  "cells": [
    {
      "cell_type": "code",
      "source": [
        "!wget direct-file-upload.hostfl.ru/files/vlcs.tar.gz"
      ],
      "metadata": {
        "colab": {
          "base_uri": "https://localhost:8080/"
        },
        "id": "0l_N-c32CAqv",
        "outputId": "1422a476-03d2-49c6-b9bd-f10f1ada4c6c"
      },
      "execution_count": 1,
      "outputs": [
        {
          "output_type": "stream",
          "name": "stdout",
          "text": [
            "--2024-04-20 03:49:21--  http://direct-file-upload.hostfl.ru/files/vlcs.tar.gz\n",
            "Resolving direct-file-upload.hostfl.ru (direct-file-upload.hostfl.ru)... 178.208.86.166\n",
            "Connecting to direct-file-upload.hostfl.ru (direct-file-upload.hostfl.ru)|178.208.86.166|:80... connected.\n",
            "HTTP request sent, awaiting response... 200 OK\n",
            "Length: 201475153 (192M) [application/octet-stream]\n",
            "Saving to: ‘vlcs.tar.gz’\n",
            "\n",
            "vlcs.tar.gz         100%[===================>] 192.14M  14.4MB/s    in 14s     \n",
            "\n",
            "2024-04-20 03:49:36 (13.7 MB/s) - ‘vlcs.tar.gz’ saved [201475153/201475153]\n",
            "\n"
          ]
        }
      ]
    },
    {
      "cell_type": "code",
      "execution_count": null,
      "metadata": {
        "id": "5baoAX6-7NEQ"
      },
      "outputs": [],
      "source": [
        "!tar -xvzf vlcs.tar.gz"
      ]
    },
    {
      "cell_type": "code",
      "source": [
        "import tensorflow as tf\n",
        "import numpy as np\n",
        "import os"
      ],
      "metadata": {
        "id": "7xj8obHC7zxR"
      },
      "execution_count": 3,
      "outputs": []
    },
    {
      "cell_type": "code",
      "source": [
        "class DataLoader:\n",
        "    def __init__(self, dataset_type='train', dataset_dir = \"./VLCS/CALTECH\",):\n",
        "        self.dataset_dir = dataset_dir\n",
        "        self.dataset_type = dataset_type\n",
        "        self.classes = os.listdir(os.path.join(dataset_dir, self.dataset_type))\n",
        "        self.images, self.labels = self.load_data()\n",
        "\n",
        "    def load_data(self):\n",
        "        images = []\n",
        "        labels = []\n",
        "        data_dir = os.path.join(self.dataset_dir, self.dataset_type)\n",
        "        for class_name in self.classes:\n",
        "            class_dir = os.path.join(data_dir, class_name)\n",
        "            for image_name in os.listdir(class_dir):\n",
        "                image_path = os.path.join(class_dir, image_name)\n",
        "                image = tf.io.read_file(image_path)\n",
        "                image = tf.image.decode_image(image, channels=3)\n",
        "                # Resize image if necessary\n",
        "                image = tf.image.resize(image, [224, 224])\n",
        "                image = tf.cast(image, tf.float32) / 255.0  # Normalize\n",
        "                images.append(image)\n",
        "                labels.append(int(class_name))\n",
        "        return images, labels\n",
        "\n",
        "    def __call__(self):\n",
        "        for image, label in zip(self.images, self.labels):\n",
        "            yield image, label"
      ],
      "metadata": {
        "id": "RdCJ0K7577Es"
      },
      "execution_count": 19,
      "outputs": []
    },
    {
      "cell_type": "code",
      "source": [
        "dataset_dir = './VLCS/CALTECH'"
      ],
      "metadata": {
        "id": "Kp-_z-e_p2_F"
      },
      "execution_count": 20,
      "outputs": []
    },
    {
      "cell_type": "code",
      "source": [
        "train_loader = DataLoader('train', dataset_dir)\n",
        "\n",
        "train_dataset = tf.data.Dataset.from_generator(train_loader,\n",
        "                                               output_types=(tf.float32, tf.int32),\n",
        "                                               output_shapes=([224, 224, 3], ()))\n",
        "\n",
        "train_batches = train_dataset.batch(16)"
      ],
      "metadata": {
        "id": "tURYSCvfqRdE"
      },
      "execution_count": 21,
      "outputs": []
    },
    {
      "cell_type": "code",
      "source": [
        "valid_loader = DataLoader('crossval', dataset_dir)\n",
        "\n",
        "valid_dataset = tf.data.Dataset.from_generator(valid_loader,\n",
        "                                              output_types=(tf.float32, tf.int32),\n",
        "                                              output_shapes=([224, 224, 3], ()))\n",
        "valid_batches = valid_dataset.batch(16)"
      ],
      "metadata": {
        "id": "wm3nobAPqt0q"
      },
      "execution_count": 22,
      "outputs": []
    },
    {
      "cell_type": "code",
      "source": [
        "test_loader = DataLoader('test', dataset_dir)\n",
        "\n",
        "test_dataset = tf.data.Dataset.from_generator(test_loader,\n",
        "                                              output_types=(tf.float32, tf.int32),\n",
        "                                              output_shapes=([224, 224, 3], ()))\n",
        "test_batches = test_dataset.batch(16)"
      ],
      "metadata": {
        "id": "4JO_jS-mqTpU"
      },
      "execution_count": 23,
      "outputs": []
    },
    {
      "cell_type": "code",
      "source": [
        "layer_input = tf.keras.layers.Input(shape=(224, 224, 3))\n",
        "_layer = tf.keras.layers.Conv2D(10, 5, activation='relu')(layer_input)\n",
        "_layer = tf.keras.layers.Conv2D(10, 3, activation='relu')(_layer)\n",
        "_layer = tf.keras.layers.Flatten()(_layer)\n",
        "_layer = tf.keras.layers.Dense(5, activation='softmax')(_layer)\n",
        "model = tf.keras.models.Model(inputs=layer_input, outputs=_layer)\n",
        "\n",
        "model.compile(optimizer='adam', loss='sparse_categorical_crossentropy', metrics=['accuracy'])\n",
        "tf.keras.utils.plot_model(model, show_shapes=True, show_layer_names=True, show_layer_activations=True)"
      ],
      "metadata": {
        "colab": {
          "base_uri": "https://localhost:8080/",
          "height": 533
        },
        "id": "WKCT8SpeEl1o",
        "outputId": "82e621bf-1ee2-43ea-eda8-5e789e2cfa93"
      },
      "execution_count": 33,
      "outputs": [
        {
          "output_type": "execute_result",
          "data": {
            "image/png": "[encoded data removed]",
            "text/plain": [
              "<IPython.core.display.Image object>"
            ]
          },
          "metadata": {},
          "execution_count": 33
        }
      ]
    },
    {
      "cell_type": "code",
      "source": [
        "early_stopping_callback = tf.keras.callbacks.EarlyStopping(monitor='val_accuracy',  mode='max', patience=3)"
      ],
      "metadata": {
        "id": "OY095Mk8uo7-"
      },
      "execution_count": 29,
      "outputs": []
    },
    {
      "cell_type": "code",
      "source": [
        "model.fit(train_batches, epochs=100, validation_data=valid_batches, callbacks=[early_stopping_callback])"
      ],
      "metadata": {
        "colab": {
          "base_uri": "https://localhost:8080/"
        },
        "id": "1xv1MVDwHTv7",
        "outputId": "7505fc9e-8130-4cb3-e060-113ef92554c5"
      },
      "execution_count": 34,
      "outputs": [
        {
          "output_type": "stream",
          "name": "stdout",
          "text": [
            "Epoch 1/100\n",
            "56/56 [==============================] - 42s 747ms/step - loss: 19.0227 - accuracy: 0.7093 - val_loss: 1.6748 - val_accuracy: 0.5700\n",
            "Epoch 2/100\n",
            "56/56 [==============================] - 40s 719ms/step - loss: 2.9925 - accuracy: 0.3883 - val_loss: 1.4430 - val_accuracy: 0.6100\n",
            "Epoch 3/100\n",
            "56/56 [==============================] - 40s 712ms/step - loss: 1.5203 - accuracy: 0.5769 - val_loss: 1.5128 - val_accuracy: 0.6100\n",
            "Epoch 4/100\n",
            "56/56 [==============================] - 42s 743ms/step - loss: 1.2690 - accuracy: 0.6431 - val_loss: 1.4826 - val_accuracy: 0.6400\n",
            "Epoch 5/100\n",
            "56/56 [==============================] - 40s 716ms/step - loss: 3.2837 - accuracy: 0.6274 - val_loss: 1.3844 - val_accuracy: 0.6400\n",
            "Epoch 6/100\n",
            "56/56 [==============================] - 42s 745ms/step - loss: 1.1290 - accuracy: 0.6655 - val_loss: 1.2217 - val_accuracy: 0.6100\n",
            "Epoch 7/100\n",
            "56/56 [==============================] - 40s 711ms/step - loss: 0.8655 - accuracy: 0.7037 - val_loss: 1.2573 - val_accuracy: 0.6200\n"
          ]
        },
        {
          "output_type": "execute_result",
          "data": {
            "text/plain": [
              "<keras.src.callbacks.History at 0x7b04037dde70>"
            ]
          },
          "metadata": {},
          "execution_count": 34
        }
      ]
    },
    {
      "cell_type": "code",
      "source": [
        "model.evaluate(test_batches)"
      ],
      "metadata": {
        "colab": {
          "base_uri": "https://localhost:8080/"
        },
        "id": "qThPMCXrKeaZ",
        "outputId": "03c46ef2-2897-45c6-f5be-b82abd9d3910"
      },
      "execution_count": 35,
      "outputs": [
        {
          "output_type": "stream",
          "name": "stdout",
          "text": [
            "27/27 [==============================] - 6s 228ms/step - loss: 1.3829 - accuracy: 0.6250\n"
          ]
        },
        {
          "output_type": "execute_result",
          "data": {
            "text/plain": [
              "[1.3828941583633423, 0.625]"
            ]
          },
          "metadata": {},
          "execution_count": 35
        }
      ]
    },
    {
      "cell_type": "code",
      "source": [
        "model.save(\"model.h5\")"
      ],
      "metadata": {
        "colab": {
          "base_uri": "https://localhost:8080/"
        },
        "id": "0m25oKXAKDFB",
        "outputId": "0633f0c6-fe44-498b-a21e-f3e7849eed5e"
      },
      "execution_count": 36,
      "outputs": [
        {
          "output_type": "stream",
          "name": "stderr",
          "text": [
            "/usr/local/lib/python3.10/dist-packages/keras/src/engine/training.py:3103: UserWarning: You are saving your model as an HDF5 file via `model.save()`. This file format is considered legacy. We recommend using instead the native Keras format, e.g. `model.save('my_model.keras')`.\n",
            "  saving_api.save_model(\n"
          ]
        }
      ]
    }
  ]
}